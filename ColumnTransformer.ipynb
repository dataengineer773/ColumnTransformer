{
 "cells": [
  {
   "cell_type": "code",
   "execution_count": 2,
   "id": "76804919-2ddd-4006-8d8c-6ecd5d6b754e",
   "metadata": {},
   "outputs": [],
   "source": [
    "# applying ColumnTransformer to encode categorical variable\n",
    "transformer = ColumnTransformer(transformer=[('cat', OneHotEncoder(), [0,1])])"
   ]
  },
  {
   "cell_type": "code",
   "execution_count": 3,
   "id": "e3d56c01-8249-4136-988b-71ab2fe9ad9e",
   "metadata": {},
   "outputs": [],
   "source": [
    "# applying ColumnTransformer impute deffrent columns in diffrent ways\n",
    "t = [('num', SimpleImputer(strategy='median'), [0, 1], ('cat', SimpleImputer(strategy='most_freguent'), [2, 3])]\n",
    "transformer = ColumnTransformer(transformers=t)"
   ]
  },
  {
   "cell_type": "code",
   "execution_count": 4,
   "id": "af732a8f-d558-4502-8a4a-d43953a6acc4",
   "metadata": {},
   "outputs": [],
   "source": [
    "# using the ColumnTransformer to only encode categorical variables and pass through the reast\n",
    "transformer = ColumnTransformer(transformers=[('cat', OneHotEncoder(), [2, 3])], remainder='passthrough')"
   ]
  },
  {
   "cell_type": "code",
   "execution_count": null,
   "id": "c70c5a2b-ae0a-4fb5-8ce9-907d854c6bc2",
   "metadata": {},
   "outputs": [],
   "source": [
    "# configuration and using the ColumnTransformer for data transformation\n",
    "transformer = ColumnTransformer(transformers=[('cat', OneHotEncoder(), [0, 1)]\n",
    "# transform training data\n",
    "train_X = transformer.fit_transform(train_X)"
   ]
  },
  {
   "cell_type": "code",
   "execution_count": null,
   "id": "7fd3bdfb-a6a6-407c-9ab3-a7f456e8bad7",
   "metadata": {},
   "outputs": [],
   "source": [
    "# configuration and using the ColumnTransformer during model evaluation\n",
    "# define model\n",
    "model = LogisticRegression()\n",
    "# define transform\n",
    "transformer = ColumnTransformer(transformers=[('cat', OneHotEncoder(), [0, 1)]\n",
    "# define pipeline\n",
    "pipeline = Pipeline(steps=[('t', transformer), ('m', model)])\n",
    "# fit the model on the transformer data\n",
    "model.fit(train_X. train_y)\n",
    "# make predictions\n",
    "yhat = model.predict(test_X)"
   ]
  },
  {
   "cell_type": "code",
   "execution_count": null,
   "id": "632a96b8-7cf9-4711-8b22-83acd5f64bbc",
   "metadata": {},
   "outputs": [],
   "source": []
  }
 ],
 "metadata": {
  "kernelspec": {
   "display_name": "Python 3 (ipykernel)",
   "language": "python",
   "name": "python3"
  },
  "language_info": {
   "codemirror_mode": {
    "name": "ipython",
    "version": 3
   },
   "file_extension": ".py",
   "mimetype": "text/x-python",
   "name": "python",
   "nbconvert_exporter": "python",
   "pygments_lexer": "ipython3",
   "version": "3.10.12"
  }
 },
 "nbformat": 4,
 "nbformat_minor": 5
}
